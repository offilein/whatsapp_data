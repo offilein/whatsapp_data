{
  "nbformat": 4,
  "nbformat_minor": 0,
  "metadata": {
    "colab": {
      "name": "Untitled0.ipynb",
      "provenance": [],
      "collapsed_sections": [],
      "authorship_tag": "ABX9TyMFCmMtRKeUWAXLyKpUfSVV",
      "include_colab_link": true
    },
    "kernelspec": {
      "name": "python3",
      "display_name": "Python 3"
    }
  },
  "cells": [
    {
      "cell_type": "markdown",
      "metadata": {
        "id": "view-in-github",
        "colab_type": "text"
      },
      "source": [
        "<a href=\"https://colab.research.google.com/github/offilein/whatsapp_data/blob/master/whatsapp_data_analyze.ipynb\" target=\"_parent\"><img src=\"https://colab.research.google.com/assets/colab-badge.svg\" alt=\"Open In Colab\"/></a>"
      ]
    },
    {
      "cell_type": "code",
      "metadata": {
        "id": "TWv3ixJ05Cgv",
        "colab_type": "code",
        "colab": {}
      },
      "source": [
        "import pandas as pd\n",
        "import re\n",
        "import matplotlib.pyplot as plt"
      ],
      "execution_count": 0,
      "outputs": []
    },
    {
      "cell_type": "code",
      "metadata": {
        "id": "M2M2eoJ_8FLg",
        "colab_type": "code",
        "colab": {}
      },
      "source": [
        "from google.colab import drive\n",
        "drive.mount('/content/drive')"
      ],
      "execution_count": 0,
      "outputs": []
    },
    {
      "cell_type": "code",
      "metadata": {
        "id": "iUFmxH8k5MOW",
        "colab_type": "code",
        "colab": {}
      },
      "source": [
        "def startsWithDateTime(s):\n",
        "    pattern = '^([0-2][0-9]|(3)[0-1])(\\.)(((0)[0-9])|((1)[0-2]))(\\.)(\\d{2}|\\d{4}), ([0-9][0-9]):([0-9][0-9]) -' # Date & Time\n",
        "    result = re.match(pattern, s)\n",
        "    if result:\n",
        "        return True\n",
        "    return False\n",
        "\n",
        "def startsWithAuthor(s):\n",
        "    patterns = [\n",
        "        '([\\w]+):',                        # First Name\n",
        "        '([\\w]+[\\s]+[\\w]+):',              # First Name + Last Name\n",
        "        '([\\w]+[\\s]+[\\w]+[\\s]+[\\w]+):',    # First Name + Middle Name + Last Name\n",
        "        '([+]\\d{2} \\d{5} \\d{5}):',         # Mobile Number (India)\n",
        "        '([+]\\d{2} \\d{3} \\d{3} \\d{4}):',   # Mobile Number (US)\n",
        "        '([+]\\d{2} \\d{4} \\d{7})'           # Mobile Number (Europe)\n",
        "    ]\n",
        "    pattern = '^' + '|'.join(patterns)\n",
        "    result = re.match(pattern, s)\n",
        "    if result:\n",
        "        return True\n",
        "    return False\n",
        "\n",
        "def getDataPoint(line):\n",
        "    # line = 18/06/17, 22:47 - Loki: Why do you have 2 numbers, Banner?\n",
        "    \n",
        "    splitLine = line.split(' - ') # splitLine = ['18/06/17, 22:47', 'Loki: Why do you have 2 numbers, Banner?']\n",
        "    \n",
        "    dateTime = splitLine[0] # dateTime = '18/06/17, 22:47'\n",
        "    \n",
        "    date, time = dateTime.split(', ') # date = '18/06/17'; time = '22:47'\n",
        "    \n",
        "    message = ' '.join(splitLine[1:]) # message = 'Loki: Why do you have 2 numbers, Banner?'\n",
        "    \n",
        "    if startsWithAuthor(message): # True\n",
        "        splitMessage = message.split(': ') # splitMessage = ['Loki', 'Why do you have 2 numbers, Banner?']\n",
        "        author = splitMessage[0] # author = 'Loki'\n",
        "        message = ' '.join(splitMessage[1:]) # message = 'Why do you have 2 numbers, Banner?'\n",
        "    else:\n",
        "        author = None\n",
        "    return date, time, author, message"
      ],
      "execution_count": 0,
      "outputs": []
    },
    {
      "cell_type": "code",
      "metadata": {
        "id": "t8q4g0vE5VNx",
        "colab_type": "code",
        "colab": {}
      },
      "source": [
        "parsedData = [] # List to keep track of data so it can be used by a Pandas dataframe\n",
        "conversationPath = './WhatsApp Chat mit Lactovegetarier lvl 3🍫🐰.txt' \n",
        "with open(conversationPath, encoding=\"utf-8\") as fp:\n",
        "    fp.readline() # Skipping first line of the file (usually contains information about end-to-end encryption)\n",
        "        \n",
        "    messageBuffer = [] # Buffer to capture intermediate output for multi-line messages\n",
        "    date, time, author = None, None, None # Intermediate variables to keep track of the current message being processed\n",
        "    \n",
        "    while True:\n",
        "        line = fp.readline() \n",
        "        if not line: # Stop reading further if end of file has been reached\n",
        "            break\n",
        "        line = line.strip() # Guarding against erroneous leading and trailing whitespaces\n",
        "        if startsWithDateTime(line): # If a line starts with a Date Time pattern, then this indicates the beginning of a new message\n",
        "            if len(messageBuffer) > 0: # Check if the message buffer contains characters from previous iterations\n",
        "                parsedData.append([date, time, author, ' '.join(messageBuffer)]) # Save the tokens from the previous message in parsedData\n",
        "            messageBuffer.clear() # Clear the message buffer so that it can be used for the next message\n",
        "            date, time, author, message = getDataPoint(line) # Identify and extract tokens from the line\n",
        "            messageBuffer.append(message) # Append message to buffer\n",
        "        else:\n",
        "            messageBuffer.append(line) # If a line doesn't start with a Date Time pattern, then it is part of a multi-line message. So, just append to buffer\n",
        "\n",
        "df = pd.DataFrame(parsedData, columns=['Date', 'Time', 'Author', 'Message'])"
      ],
      "execution_count": 0,
      "outputs": []
    },
    {
      "cell_type": "code",
      "metadata": {
        "id": "Elfs6ASV9dpa",
        "colab_type": "code",
        "outputId": "296f7087-57b9-42f6-cc2d-83c64247269c",
        "colab": {
          "base_uri": "https://localhost:8080/",
          "height": 283
        }
      },
      "source": [
        "author_value_counts = df['Author'].value_counts() # Number of messages per author\n",
        "top_10_author_value_counts = author_value_counts.head(10) # Number of messages per author for the top 10 most active authors\n",
        "top_10_author_value_counts.plot.barh() # Plot a bar chart using pandas built-in plotting apis"
      ],
      "execution_count": 12,
      "outputs": [
        {
          "output_type": "execute_result",
          "data": {
            "text/plain": [
              "<matplotlib.axes._subplots.AxesSubplot at 0x7fd4b07f2400>"
            ]
          },
          "metadata": {
            "tags": []
          },
          "execution_count": 12
        },
        {
          "output_type": "display_data",
          "data": {
            "image/png": "[encoded data removed]",
            "text/plain": [
              "<Figure size 432x288 with 1 Axes>"
            ]
          },
          "metadata": {
            "tags": []
          }
        }
      ]
    },
    {
      "cell_type": "code",
      "metadata": {
        "id": "OBYcpiAg_yty",
        "colab_type": "code",
        "colab": {
          "base_uri": "https://localhost:8080/",
          "height": 206
        },
        "outputId": "d1fcedd9-7cd1-497b-dfc0-0036e39f320a"
      },
      "source": [
        "null_authors_df = df[df['Author'].isnull()]\n",
        "null_authors_df.head()"
      ],
      "execution_count": 15,
      "outputs": [
        {
          "output_type": "execute_result",
          "data": {
            "text/html": [
              "<div>\n",
              "<style scoped>\n",
              "    .dataframe tbody tr th:only-of-type {\n",
              "        vertical-align: middle;\n",
              "    }\n",
              "\n",
              "    .dataframe tbody tr th {\n",
              "        vertical-align: top;\n",
              "    }\n",
              "\n",
              "    .dataframe thead th {\n",
              "        text-align: right;\n",
              "    }\n",
              "</style>\n",
              "<table border=\"1\" class=\"dataframe\">\n",
              "  <thead>\n",
              "    <tr style=\"text-align: right;\">\n",
              "      <th></th>\n",
              "      <th>Date</th>\n",
              "      <th>Time</th>\n",
              "      <th>Author</th>\n",
              "      <th>Message</th>\n",
              "    </tr>\n",
              "  </thead>\n",
              "  <tbody>\n",
              "    <tr>\n",
              "      <th>64</th>\n",
              "      <td>19.04.18</td>\n",
              "      <td>10:48</td>\n",
              "      <td>None</td>\n",
              "      <td>+49 176 97698782: Ok</td>\n",
              "    </tr>\n",
              "    <tr>\n",
              "      <th>209</th>\n",
              "      <td>20.04.18</td>\n",
              "      <td>10:36</td>\n",
              "      <td>None</td>\n",
              "      <td>+49 176 97698782: Welche fortnite streams guck...</td>\n",
              "    </tr>\n",
              "    <tr>\n",
              "      <th>213</th>\n",
              "      <td>20.04.18</td>\n",
              "      <td>10:40</td>\n",
              "      <td>None</td>\n",
              "      <td>+49 176 97698782: Schon lange nich mehr</td>\n",
              "    </tr>\n",
              "    <tr>\n",
              "      <th>214</th>\n",
              "      <td>20.04.18</td>\n",
              "      <td>10:40</td>\n",
              "      <td>None</td>\n",
              "      <td>+49 176 97698782: Lol</td>\n",
              "    </tr>\n",
              "    <tr>\n",
              "      <th>216</th>\n",
              "      <td>20.04.18</td>\n",
              "      <td>10:41</td>\n",
              "      <td>None</td>\n",
              "      <td>+49 176 97698782: Ist zwar eigentlich hässlich...</td>\n",
              "    </tr>\n",
              "  </tbody>\n",
              "</table>\n",
              "</div>"
            ],
            "text/plain": [
              "         Date   Time Author                                            Message\n",
              "64   19.04.18  10:48   None                               +49 176 97698782: Ok\n",
              "209  20.04.18  10:36   None  +49 176 97698782: Welche fortnite streams guck...\n",
              "213  20.04.18  10:40   None            +49 176 97698782: Schon lange nich mehr\n",
              "214  20.04.18  10:40   None                              +49 176 97698782: Lol\n",
              "216  20.04.18  10:41   None  +49 176 97698782: Ist zwar eigentlich hässlich..."
            ]
          },
          "metadata": {
            "tags": []
          },
          "execution_count": 15
        }
      ]
    },
    {
      "cell_type": "code",
      "metadata": {
        "id": "7WLf43SNAAIe",
        "colab_type": "code",
        "colab": {
          "base_uri": "https://localhost:8080/",
          "height": 394
        },
        "outputId": "ac9a3dc1-3926-4474-8a80-c7f4785bc8af"
      },
      "source": [
        "media_messages_df = df[df['Message'] == '<Medien ausgeschlossen>']\n",
        "print(media_messages_df.head())\n",
        "\n",
        "author_media_messages_value_counts = media_messages_df['Author'].value_counts()\n",
        "top_10_author_media_messages_value_counts = author_media_messages_value_counts.head(10)\n",
        "top_10_author_media_messages_value_counts.plot.barh()"
      ],
      "execution_count": 18,
      "outputs": [
        {
          "output_type": "stream",
          "text": [
            "        Date   Time   Author                  Message\n",
            "3   18.04.18  20:55    Tommy  <Medien ausgeschlossen>\n",
            "7   19.04.18  05:39    Tommy  <Medien ausgeschlossen>\n",
            "11  19.04.18  07:39  Patrick  <Medien ausgeschlossen>\n",
            "15  19.04.18  08:46     Dima  <Medien ausgeschlossen>\n",
            "16  19.04.18  09:01     Alex  <Medien ausgeschlossen>\n"
          ],
          "name": "stdout"
        },
        {
          "output_type": "execute_result",
          "data": {
            "text/plain": [
              "<matplotlib.axes._subplots.AxesSubplot at 0x7fd4b10b3b38>"
            ]
          },
          "metadata": {
            "tags": []
          },
          "execution_count": 18
        },
        {
          "output_type": "display_data",
          "data": {
            "image/png": "[encoded data removed]",
            "text/plain": [
              "<Figure size 432x288 with 1 Axes>"
            ]
          },
          "metadata": {
            "tags": []
          }
        }
      ]
    },
    {
      "cell_type": "code",
      "metadata": {
        "id": "VowiP8SFBTCP",
        "colab_type": "code",
        "colab": {
          "base_uri": "https://localhost:8080/",
          "height": 206
        },
        "outputId": "f0652d4c-5d2a-4c84-a52f-a85a72a399c7"
      },
      "source": [
        "messages_df = df.drop(null_authors_df.index) # Drops all rows of the data frame containing messages from null authors\n",
        "messages_df = messages_df.drop(media_messages_df.index) # Drops all rows of the data frame containing media messages\n",
        "messages_df.head()"
      ],
      "execution_count": 19,
      "outputs": [
        {
          "output_type": "execute_result",
          "data": {
            "text/html": [
              "<div>\n",
              "<style scoped>\n",
              "    .dataframe tbody tr th:only-of-type {\n",
              "        vertical-align: middle;\n",
              "    }\n",
              "\n",
              "    .dataframe tbody tr th {\n",
              "        vertical-align: top;\n",
              "    }\n",
              "\n",
              "    .dataframe thead th {\n",
              "        text-align: right;\n",
              "    }\n",
              "</style>\n",
              "<table border=\"1\" class=\"dataframe\">\n",
              "  <thead>\n",
              "    <tr style=\"text-align: right;\">\n",
              "      <th></th>\n",
              "      <th>Date</th>\n",
              "      <th>Time</th>\n",
              "      <th>Author</th>\n",
              "      <th>Message</th>\n",
              "    </tr>\n",
              "  </thead>\n",
              "  <tbody>\n",
              "    <tr>\n",
              "      <th>0</th>\n",
              "      <td>18.04.18</td>\n",
              "      <td>20:38</td>\n",
              "      <td>Meo</td>\n",
              "      <td>x)</td>\n",
              "    </tr>\n",
              "    <tr>\n",
              "      <th>1</th>\n",
              "      <td>18.04.18</td>\n",
              "      <td>20:40</td>\n",
              "      <td>Meo</td>\n",
              "      <td>Oder man springt aus 200 Metern ins Wasser.. V...</td>\n",
              "    </tr>\n",
              "    <tr>\n",
              "      <th>2</th>\n",
              "      <td>18.04.18</td>\n",
              "      <td>20:40</td>\n",
              "      <td>Tommy</td>\n",
              "      <td>Vomg dicke her</td>\n",
              "    </tr>\n",
              "    <tr>\n",
              "      <th>4</th>\n",
              "      <td>18.04.18</td>\n",
              "      <td>20:55</td>\n",
              "      <td>Tommy</td>\n",
              "      <td>#dickefinger</td>\n",
              "    </tr>\n",
              "    <tr>\n",
              "      <th>5</th>\n",
              "      <td>18.04.18</td>\n",
              "      <td>20:56</td>\n",
              "      <td>Tommy</td>\n",
              "      <td>Russischer Pop empfohlen weil ich Dr. Dre gehö...</td>\n",
              "    </tr>\n",
              "  </tbody>\n",
              "</table>\n",
              "</div>"
            ],
            "text/plain": [
              "       Date   Time Author                                            Message\n",
              "0  18.04.18  20:38    Meo                                                 x)\n",
              "1  18.04.18  20:40    Meo  Oder man springt aus 200 Metern ins Wasser.. V...\n",
              "2  18.04.18  20:40  Tommy                                     Vomg dicke her\n",
              "4  18.04.18  20:55  Tommy                                       #dickefinger\n",
              "5  18.04.18  20:56  Tommy  Russischer Pop empfohlen weil ich Dr. Dre gehö..."
            ]
          },
          "metadata": {
            "tags": []
          },
          "execution_count": 19
        }
      ]
    },
    {
      "cell_type": "code",
      "metadata": {
        "id": "BMFfjfynBkjh",
        "colab_type": "code",
        "colab": {}
      },
      "source": [
        "messages_df['Letter_Count'] = messages_df['Message'].apply(lambda s : len(s))\n",
        "messages_df['Word_Count'] = messages_df['Message'].apply(lambda s : len(s.split(' ')))"
      ],
      "execution_count": 0,
      "outputs": []
    },
    {
      "cell_type": "code",
      "metadata": {
        "id": "7UYqh3deCQts",
        "colab_type": "code",
        "colab": {
          "base_uri": "https://localhost:8080/",
          "height": 35
        },
        "outputId": "cadccd42-1451-490d-fc0a-eaf3e1e4300f"
      },
      "source": [
        "messages_df['Letter_Count'].sum(), messages_df['Word_Count'].sum()"
      ],
      "execution_count": 34,
      "outputs": [
        {
          "output_type": "execute_result",
          "data": {
            "text/plain": [
              "(1044204, 187111)"
            ]
          },
          "metadata": {
            "tags": []
          },
          "execution_count": 34
        }
      ]
    },
    {
      "cell_type": "code",
      "metadata": {
        "id": "izW2M9DeG1W3",
        "colab_type": "code",
        "colab": {
          "base_uri": "https://localhost:8080/",
          "height": 297
        },
        "outputId": "3010e50a-3d53-4d2f-c08d-7fa9ad5c8334"
      },
      "source": [
        "total_word_count_grouped_by_author = messages_df[['Author', 'Word_Count']].groupby('Author').sum()\n",
        "sorted_total_word_count_grouped_by_author = total_word_count_grouped_by_author.sort_values('Word_Count', ascending=False)\n",
        "top_10_sorted_total_word_count_grouped_by_author = sorted_total_word_count_grouped_by_author.head(10)\n",
        "top_10_sorted_total_word_count_grouped_by_author.plot.barh()\n",
        "plt.xlabel('Number of Words')\n",
        "plt.ylabel('Authors')"
      ],
      "execution_count": 35,
      "outputs": [
        {
          "output_type": "execute_result",
          "data": {
            "text/plain": [
              "Text(0, 0.5, 'Authors')"
            ]
          },
          "metadata": {
            "tags": []
          },
          "execution_count": 35
        },
        {
          "output_type": "display_data",
          "data": {
            "image/png": "[encoded data removed]",
            "text/plain": [
              "<Figure size 432x288 with 1 Axes>"
            ]
          },
          "metadata": {
            "tags": []
          }
        }
      ]
    },
    {
      "cell_type": "code",
      "metadata": {
        "id": "gipq9cJHHByf",
        "colab_type": "code",
        "colab": {
          "base_uri": "https://localhost:8080/",
          "height": 191
        },
        "outputId": "0ce57a41-cd07-4c2a-df42-2c9d5fba641c"
      },
      "source": [
        "plt.figure(figsize=(15, 2)) # To ensure that the bar plot fits in the output cell of a Jupyter notebook\n",
        "word_count_value_counts = messages_df['Word_Count'].value_counts()\n",
        "top_40_word_count_value_counts = word_count_value_counts.head(40)\n",
        "top_40_word_count_value_counts.plot.bar()\n",
        "plt.xlabel('Word Count')\n",
        "plt.ylabel('Frequency')"
      ],
      "execution_count": 36,
      "outputs": [
        {
          "output_type": "execute_result",
          "data": {
            "text/plain": [
              "Text(0, 0.5, 'Frequency')"
            ]
          },
          "metadata": {
            "tags": []
          },
          "execution_count": 36
        },
        {
          "output_type": "display_data",
          "data": {
            "image/png": "[encoded data removed]",
            "text/plain": [
              "<Figure size 1080x144 with 1 Axes>"
            ]
          },
          "metadata": {
            "tags": []
          }
        }
      ]
    },
    {
      "cell_type": "code",
      "metadata": {
        "id": "RCpf5FCTHRph",
        "colab_type": "code",
        "colab": {
          "base_uri": "https://localhost:8080/",
          "height": 297
        },
        "outputId": "cf9f9e27-f093-4ba6-b1f3-5aa55c8b4f59"
      },
      "source": [
        "total_letter_count_grouped_by_author = messages_df[['Author', 'Letter_Count']].groupby('Author').sum()\n",
        "sorted_total_letter_count_grouped_by_author = total_letter_count_grouped_by_author.sort_values('Letter_Count', ascending=False)\n",
        "top_10_sorted_total_letter_count_grouped_by_author = sorted_total_letter_count_grouped_by_author.head(10)\n",
        "top_10_sorted_total_letter_count_grouped_by_author.plot.barh()\n",
        "plt.xlabel('Number of Letters')\n",
        "plt.ylabel('Authors')"
      ],
      "execution_count": 37,
      "outputs": [
        {
          "output_type": "execute_result",
          "data": {
            "text/plain": [
              "Text(0, 0.5, 'Authors')"
            ]
          },
          "metadata": {
            "tags": []
          },
          "execution_count": 37
        },
        {
          "output_type": "display_data",
          "data": {
            "image/png": "[encoded data removed]",
            "text/plain": [
              "<Figure size 432x288 with 1 Axes>"
            ]
          },
          "metadata": {
            "tags": []
          }
        }
      ]
    },
    {
      "cell_type": "code",
      "metadata": {
        "id": "5Y5HFPXRHdjO",
        "colab_type": "code",
        "colab": {
          "base_uri": "https://localhost:8080/",
          "height": 191
        },
        "outputId": "323070c1-7575-4518-c9b0-473d1ea94c05"
      },
      "source": [
        "plt.figure(figsize=(15, 2))\n",
        "letter_count_value_counts = messages_df['Letter_Count'].value_counts()\n",
        "top_40_letter_count_value_counts = letter_count_value_counts.head(40)\n",
        "top_40_letter_count_value_counts.plot.bar()\n",
        "plt.xlabel('Letter count')\n",
        "plt.ylabel('Frequency')"
      ],
      "execution_count": 38,
      "outputs": [
        {
          "output_type": "execute_result",
          "data": {
            "text/plain": [
              "Text(0, 0.5, 'Frequency')"
            ]
          },
          "metadata": {
            "tags": []
          },
          "execution_count": 38
        },
        {
          "output_type": "display_data",
          "data": {
            "image/png": "[encoded data removed]",
            "text/plain": [
              "<Figure size 1080x144 with 1 Axes>"
            ]
          },
          "metadata": {
            "tags": []
          }
        }
      ]
    },
    {
      "cell_type": "code",
      "metadata": {
        "id": "RbG8uIoQIMiB",
        "colab_type": "code",
        "colab": {
          "base_uri": "https://localhost:8080/",
          "height": 297
        },
        "outputId": "6227a1ab-5c79-440f-99ba-b47decc2bf9d"
      },
      "source": [
        "messages_df['Date'].value_counts().head(10).plot.barh() # Top 10 Dates on which the most number of messages were sent\n",
        "plt.xlabel('Number of Messages')\n",
        "plt.ylabel('Date')"
      ],
      "execution_count": 39,
      "outputs": [
        {
          "output_type": "execute_result",
          "data": {
            "text/plain": [
              "Text(0, 0.5, 'Date')"
            ]
          },
          "metadata": {
            "tags": []
          },
          "execution_count": 39
        },
        {
          "output_type": "display_data",
          "data": {
            "image/png": "[encoded data removed]",
            "text/plain": [
              "<Figure size 432x288 with 1 Axes>"
            ]
          },
          "metadata": {
            "tags": []
          }
        }
      ]
    },
    {
      "cell_type": "code",
      "metadata": {
        "id": "beU3lAgVImLE",
        "colab_type": "code",
        "colab": {
          "base_uri": "https://localhost:8080/",
          "height": 297
        },
        "outputId": "fee7e52d-45bf-4124-875c-9c57cb3f6d1f"
      },
      "source": [
        "messages_df['Time'].value_counts().head(10).plot.barh() # Top 10 Times of the day at which the most number of messages were sent\n",
        "plt.xlabel('Number of messages')\n",
        "plt.ylabel('Time')"
      ],
      "execution_count": 40,
      "outputs": [
        {
          "output_type": "execute_result",
          "data": {
            "text/plain": [
              "Text(0, 0.5, 'Time')"
            ]
          },
          "metadata": {
            "tags": []
          },
          "execution_count": 40
        },
        {
          "output_type": "display_data",
          "data": {
            "image/png": "[encoded data removed]",
            "text/plain": [
              "<Figure size 432x288 with 1 Axes>"
            ]
          },
          "metadata": {
            "tags": []
          }
        }
      ]
    },
    {
      "cell_type": "code",
      "metadata": {
        "id": "y-yU7d2mIw02",
        "colab_type": "code",
        "colab": {}
      },
      "source": [
        "messages_df['Hour'] = messages_df['Time'].apply(lambda x : x.split(':')[0]) # The first token of a value in the Time Column contains the hour (Eg., \"20\" in \"20:15\")"
      ],
      "execution_count": 0,
      "outputs": []
    },
    {
      "cell_type": "code",
      "metadata": {
        "id": "twEjZ754I7Pm",
        "colab_type": "code",
        "colab": {
          "base_uri": "https://localhost:8080/",
          "height": 297
        },
        "outputId": "8a1fb578-52c0-4b2e-b799-e29a38213efe"
      },
      "source": [
        "messages_df['Hour'].value_counts().head(10).sort_index(ascending=False).plot.barh() # Top 10 Hours of the day during which the most number of messages were sent\n",
        "plt.xlabel('Number of messages')\n",
        "plt.ylabel('Hour of Day')"
      ],
      "execution_count": 42,
      "outputs": [
        {
          "output_type": "execute_result",
          "data": {
            "text/plain": [
              "Text(0, 0.5, 'Hour of Day')"
            ]
          },
          "metadata": {
            "tags": []
          },
          "execution_count": 42
        },
        {
          "output_type": "display_data",
          "data": {
            "image/png": "[encoded data removed]",
            "text/plain": [
              "<Figure size 432x288 with 1 Axes>"
            ]
          },
          "metadata": {
            "tags": []
          }
        }
      ]
    }
  ]
}