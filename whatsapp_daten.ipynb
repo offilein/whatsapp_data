{
  "nbformat": 4,
  "nbformat_minor": 0,
  "metadata": {
    "colab": {
      "name": "whatsapp_daten.ipynb",
      "provenance": [],
      "collapsed_sections": [],
      "authorship_tag": "ABX9TyM77SaciV0ruHTMcxwvQpt3",
      "include_colab_link": true
    },
    "kernelspec": {
      "name": "python3",
      "display_name": "Python 3"
    }
  },
  "cells": [
    {
      "cell_type": "markdown",
      "metadata": {
        "id": "view-in-github",
        "colab_type": "text"
      },
      "source": [
        "<a href=\"https://colab.research.google.com/github/offilein/whatsapp_data/blob/master/whatsapp_daten.ipynb\" target=\"_parent\"><img src=\"https://colab.research.google.com/assets/colab-badge.svg\" alt=\"Open In Colab\"/></a>"
      ]
    },
    {
      "cell_type": "code",
      "metadata": {
        "id": "xuaisCgeVOXN",
        "colab_type": "code",
        "colab": {}
      },
      "source": [
        "import pandas as pd\n",
        "import re\n",
        "import matplotlib.pyplot as plt"
      ],
      "execution_count": 0,
      "outputs": []
    },
    {
      "cell_type": "code",
      "metadata": {
        "id": "X_vEaeTRVRPo",
        "colab_type": "code",
        "colab": {
          "base_uri": "https://localhost:8080/",
          "height": 35
        },
        "outputId": "516c71ed-7ef1-4d8c-f75a-12f0ac91b318"
      },
      "source": [
        "from google.colab import drive\n",
        "drive.mount('/content/drive')"
      ],
      "execution_count": 25,
      "outputs": [
        {
          "output_type": "stream",
          "text": [
            "Drive already mounted at /content/drive; to attempt to forcibly remount, call drive.mount(\"/content/drive\", force_remount=True).\n"
          ],
          "name": "stdout"
        }
      ]
    },
    {
      "cell_type": "code",
      "metadata": {
        "id": "HoyOCyG4YLjl",
        "colab_type": "code",
        "colab": {}
      },
      "source": [
        "#Regex für '18.04.18, 20:38 -'\n",
        "def startsWithDateTime(s):\n",
        "  phoneNumRegex = r'^([0-2][0-9]|(3)[0-1])(\\.)(((0)[0-9])|((1)[0-2]))(\\.)(\\d{2}|\\d{4}), ([0-9][0-9]):([0-9][0-9]) -'  #Datum und Uhrzeit\n",
        "  result = re.match(phoneNumRegex, s)\n",
        "  if result:\n",
        "    return True\n",
        "  return False"
      ],
      "execution_count": 0,
      "outputs": []
    },
    {
      "cell_type": "code",
      "metadata": {
        "id": "jQDWJnnYwK5L",
        "colab_type": "code",
        "colab": {}
      },
      "source": [
        "#Regex für 'Meo:'\n",
        "def startsWithAuthor(s):\n",
        "  patterns = [\n",
        "      '([\\w]+):',                        # Vorname\n",
        "      '([\\w]+[\\s]+[\\w]+):',              # Vorname + Nachname\n",
        "      '(.[\\w]+[\\s]+[\\w]+):',             # .Vorname + Nachname\n",
        "      '([\\w]+[\\s]+[\\w]+[\\s]+[\\w]+):',    # Vorname + Zweiter Vorname + Nachname\n",
        "      '([+]\\d{2} \\d{3} \\d{8})'           # Handy Nummer (Europa)\n",
        "  ]\n",
        "  pattern = '^' + '|'.join(patterns)\n",
        "  result = re.match(pattern, s)\n",
        "  if result:\n",
        "    return True\n",
        "  return False"
      ],
      "execution_count": 0,
      "outputs": []
    },
    {
      "cell_type": "code",
      "metadata": {
        "id": "FbkgkZ8A40Cp",
        "colab_type": "code",
        "colab": {}
      },
      "source": [
        "#Nachricht aufteilen\n",
        "def getDataPoint(line):\n",
        "    # line = 18.04.18, 20:38 - Meo: LOOOOL\n",
        "    \n",
        "    splitLine = line.split(' - ') # splitLine = ['18.04.18, 20:38', 'Meo: LOOOOL']\n",
        "    \n",
        "    dateTime = splitLine[0] # dateTime = '18.04.18, 20:38'\n",
        "    \n",
        "    date, time = dateTime.split(', ') # date = '18.04.18'; time = '20:38'\n",
        "    \n",
        "    message = ' '.join(splitLine[1:]) # message = 'Meo: LOOOOL'\n",
        "    \n",
        "    if startsWithAuthor(message): # True (Funktion startsWithAuthor())\n",
        "        splitMessage = message.split(': ') # splitMessage = ['Meo', 'LOOOOL']\n",
        "        author = splitMessage[0] # author = 'Meo'\n",
        "        message = ' '.join(splitMessage[1:]) # message = 'LOOOOL'\n",
        "    else:\n",
        "        author = None\n",
        "    return date, time, author, message"
      ],
      "execution_count": 0,
      "outputs": []
    },
    {
      "cell_type": "code",
      "metadata": {
        "id": "7o0DF2dx5z2X",
        "colab_type": "code",
        "colab": {}
      },
      "source": [
        "\n",
        "parsedData = [] # Liste für Pandas\n",
        "conversationPath = './WhatsApp Chat mit Lactovegetarier lvl 3🍫🐰.txt' \n",
        "with open(conversationPath, encoding=\"utf-8\") as fp:\n",
        "    fp.readline() # Erste Zeile überspringen\n",
        "        \n",
        "    messageBuffer = [] # Buffer für mehrzeilige Nachrichten\n",
        "    date, time, author = None, None, None # Variablen der aktuellen Nachricht\n",
        "    \n",
        "    while True:\n",
        "        line = fp.readline() \n",
        "        if not line: # Stop am Ende der Datei\n",
        "            break\n",
        "        line = line.strip()\n",
        "        if startsWithDateTime(line): # Wenn Zeile mit DateTimePattern beginnt ist das eine neue Zeile (Funktion startsWithDateTime())\n",
        "            if len(messageBuffer) > 0: # Check ob der buffer etwas enthält\n",
        "                parsedData.append([date, time, author, ' '.join(messageBuffer)]) # parsedData mit dem buffer füllen\n",
        "            messageBuffer.clear() # buffer leeren\n",
        "            date, time, author, message = getDataPoint(line) # Nachricht aufteilen (Funktion getDataPoint())\n",
        "            messageBuffer.append(message) # Nachricht zum buffer hinzufügen\n",
        "        else:\n",
        "            messageBuffer.append(line) # Wenn Zeile nicht mit Datum anfängt ist es eine mehrzeile Nachricht, dann zum buffer hinzufügen\n",
        "\n",
        "df = pd.DataFrame(parsedData, columns=['Date', 'Time', 'Author', 'Message'])"
      ],
      "execution_count": 0,
      "outputs": []
    },
    {
      "cell_type": "code",
      "metadata": {
        "id": "NbsAqR-ffJhe",
        "colab_type": "code",
        "colab": {}
      },
      "source": [
        "df_clean = df.replace(['.kiki königsschluckspecht', '.56er Jengelz', '+49 176 97698782'],['Alex', 'Kevib', 'Flo'])"
      ],
      "execution_count": 0,
      "outputs": []
    },
    {
      "cell_type": "code",
      "metadata": {
        "id": "mqM_jLFFgDdh",
        "colab_type": "code",
        "colab": {
          "base_uri": "https://localhost:8080/",
          "height": 54
        },
        "outputId": "c8867b87-185a-4b33-9116-5d3ffe1e7bbe"
      },
      "source": [
        "df_clean.Author.unique()"
      ],
      "execution_count": 56,
      "outputs": [
        {
          "output_type": "execute_result",
          "data": {
            "text/plain": [
              "array(['Meo', 'Tommy', 'Alex', 'Patrick', 'Dima', 'Kevib', 'Flo', 'Niggo',\n",
              "       None], dtype=object)"
            ]
          },
          "metadata": {
            "tags": []
          },
          "execution_count": 56
        }
      ]
    },
    {
      "cell_type": "code",
      "metadata": {
        "id": "LB-OYcb4g5Av",
        "colab_type": "code",
        "colab": {
          "base_uri": "https://localhost:8080/",
          "height": 175
        },
        "outputId": "02209d19-242f-432d-8d4e-22a075eea0ab"
      },
      "source": [
        "df_clean.describe()"
      ],
      "execution_count": 57,
      "outputs": [
        {
          "output_type": "execute_result",
          "data": {
            "text/html": [
              "<div>\n",
              "<style scoped>\n",
              "    .dataframe tbody tr th:only-of-type {\n",
              "        vertical-align: middle;\n",
              "    }\n",
              "\n",
              "    .dataframe tbody tr th {\n",
              "        vertical-align: top;\n",
              "    }\n",
              "\n",
              "    .dataframe thead th {\n",
              "        text-align: right;\n",
              "    }\n",
              "</style>\n",
              "<table border=\"1\" class=\"dataframe\">\n",
              "  <thead>\n",
              "    <tr style=\"text-align: right;\">\n",
              "      <th></th>\n",
              "      <th>Date</th>\n",
              "      <th>Time</th>\n",
              "      <th>Author</th>\n",
              "      <th>Message</th>\n",
              "    </tr>\n",
              "  </thead>\n",
              "  <tbody>\n",
              "    <tr>\n",
              "      <th>count</th>\n",
              "      <td>41182</td>\n",
              "      <td>41182</td>\n",
              "      <td>41129</td>\n",
              "      <td>41182</td>\n",
              "    </tr>\n",
              "    <tr>\n",
              "      <th>unique</th>\n",
              "      <td>612</td>\n",
              "      <td>1347</td>\n",
              "      <td>8</td>\n",
              "      <td>28836</td>\n",
              "    </tr>\n",
              "    <tr>\n",
              "      <th>top</th>\n",
              "      <td>24.05.18</td>\n",
              "      <td>12:24</td>\n",
              "      <td>Alex</td>\n",
              "      <td>&lt;Medien ausgeschlossen&gt;</td>\n",
              "    </tr>\n",
              "    <tr>\n",
              "      <th>freq</th>\n",
              "      <td>448</td>\n",
              "      <td>81</td>\n",
              "      <td>10620</td>\n",
              "      <td>3807</td>\n",
              "    </tr>\n",
              "  </tbody>\n",
              "</table>\n",
              "</div>"
            ],
            "text/plain": [
              "            Date   Time Author                  Message\n",
              "count      41182  41182  41129                    41182\n",
              "unique       612   1347      8                    28836\n",
              "top     24.05.18  12:24   Alex  <Medien ausgeschlossen>\n",
              "freq         448     81  10620                     3807"
            ]
          },
          "metadata": {
            "tags": []
          },
          "execution_count": 57
        }
      ]
    },
    {
      "cell_type": "code",
      "metadata": {
        "id": "jxL-pIbOg_Z9",
        "colab_type": "code",
        "colab": {
          "base_uri": "https://localhost:8080/",
          "height": 283
        },
        "outputId": "c3ba840f-1252-4810-e3b0-d9f26af05613"
      },
      "source": [
        "author_value_counts = df_clean['Author'].value_counts() # Anzahl Nachrichten pro Author\n",
        "author_value_counts.plot.barh() # Plot a bar chart mit Pandas"
      ],
      "execution_count": 66,
      "outputs": [
        {
          "output_type": "execute_result",
          "data": {
            "text/plain": [
              "<matplotlib.axes._subplots.AxesSubplot at 0x7f21ef1eeda0>"
            ]
          },
          "metadata": {
            "tags": []
          },
          "execution_count": 66
        },
        {
          "output_type": "display_data",
          "data": {
            "image/png": "[encoded data removed]",
            "text/plain": [
              "<Figure size 432x288 with 1 Axes>"
            ]
          },
          "metadata": {
            "tags": []
          }
        }
      ]
    },
    {
      "cell_type": "code",
      "metadata": {
        "id": "W8mNeAGuhhHD",
        "colab_type": "code",
        "colab": {
          "base_uri": "https://localhost:8080/",
          "height": 394
        },
        "outputId": "bf80ab99-75de-4458-8309-9c593d798ab0"
      },
      "source": [
        "media_messages_df = df_clean[df_clean['Message'] == '<Medien ausgeschlossen>']\n",
        "print(media_messages_df.head())\n",
        "\n",
        "author_media_messages_value_counts = media_messages_df['Author'].value_counts()\n",
        "top_10_author_media_messages_value_counts = author_media_messages_value_counts.head(10)\n",
        "top_10_author_media_messages_value_counts.plot.barh()"
      ],
      "execution_count": 64,
      "outputs": [
        {
          "output_type": "stream",
          "text": [
            "        Date   Time   Author                  Message\n",
            "3   18.04.18  20:55    Tommy  <Medien ausgeschlossen>\n",
            "7   19.04.18  05:39    Tommy  <Medien ausgeschlossen>\n",
            "11  19.04.18  07:39  Patrick  <Medien ausgeschlossen>\n",
            "15  19.04.18  08:46     Dima  <Medien ausgeschlossen>\n",
            "16  19.04.18  09:01     Alex  <Medien ausgeschlossen>\n"
          ],
          "name": "stdout"
        },
        {
          "output_type": "execute_result",
          "data": {
            "text/plain": [
              "<matplotlib.axes._subplots.AxesSubplot at 0x7f21ef18a6d8>"
            ]
          },
          "metadata": {
            "tags": []
          },
          "execution_count": 64
        },
        {
          "output_type": "display_data",
          "data": {
            "image/png": "[encoded data removed]",
            "text/plain": [
              "<Figure size 432x288 with 1 Axes>"
            ]
          },
          "metadata": {
            "tags": []
          }
        }
      ]
    },
    {
      "cell_type": "code",
      "metadata": {
        "id": "39W6D_D3ky5y",
        "colab_type": "code",
        "colab": {
          "base_uri": "https://localhost:8080/",
          "height": 206
        },
        "outputId": "b36d1a40-abd3-4bd6-fc55-1486668adc67"
      },
      "source": [
        "messages_df = df_clean.drop(null_authors_df.index) # Alle Nachrichten mit NULL als Author löschen\n",
        "messages_df = messages_df.drop(media_messages_df.index) # Alle <Medien ausgeschlossen> Nachrichten löschen\n",
        "messages_df.head()"
      ],
      "execution_count": 65,
      "outputs": [
        {
          "output_type": "execute_result",
          "data": {
            "text/html": [
              "<div>\n",
              "<style scoped>\n",
              "    .dataframe tbody tr th:only-of-type {\n",
              "        vertical-align: middle;\n",
              "    }\n",
              "\n",
              "    .dataframe tbody tr th {\n",
              "        vertical-align: top;\n",
              "    }\n",
              "\n",
              "    .dataframe thead th {\n",
              "        text-align: right;\n",
              "    }\n",
              "</style>\n",
              "<table border=\"1\" class=\"dataframe\">\n",
              "  <thead>\n",
              "    <tr style=\"text-align: right;\">\n",
              "      <th></th>\n",
              "      <th>Date</th>\n",
              "      <th>Time</th>\n",
              "      <th>Author</th>\n",
              "      <th>Message</th>\n",
              "    </tr>\n",
              "  </thead>\n",
              "  <tbody>\n",
              "    <tr>\n",
              "      <th>0</th>\n",
              "      <td>18.04.18</td>\n",
              "      <td>20:38</td>\n",
              "      <td>Meo</td>\n",
              "      <td>x)</td>\n",
              "    </tr>\n",
              "    <tr>\n",
              "      <th>1</th>\n",
              "      <td>18.04.18</td>\n",
              "      <td>20:40</td>\n",
              "      <td>Meo</td>\n",
              "      <td>Oder man springt aus 200 Metern ins Wasser.. V...</td>\n",
              "    </tr>\n",
              "    <tr>\n",
              "      <th>2</th>\n",
              "      <td>18.04.18</td>\n",
              "      <td>20:40</td>\n",
              "      <td>Tommy</td>\n",
              "      <td>Vomg dicke her</td>\n",
              "    </tr>\n",
              "    <tr>\n",
              "      <th>4</th>\n",
              "      <td>18.04.18</td>\n",
              "      <td>20:55</td>\n",
              "      <td>Tommy</td>\n",
              "      <td>#dickefinger</td>\n",
              "    </tr>\n",
              "    <tr>\n",
              "      <th>5</th>\n",
              "      <td>18.04.18</td>\n",
              "      <td>20:56</td>\n",
              "      <td>Tommy</td>\n",
              "      <td>Russischer Pop empfohlen weil ich Dr. Dre gehö...</td>\n",
              "    </tr>\n",
              "  </tbody>\n",
              "</table>\n",
              "</div>"
            ],
            "text/plain": [
              "       Date   Time Author                                            Message\n",
              "0  18.04.18  20:38    Meo                                                 x)\n",
              "1  18.04.18  20:40    Meo  Oder man springt aus 200 Metern ins Wasser.. V...\n",
              "2  18.04.18  20:40  Tommy                                     Vomg dicke her\n",
              "4  18.04.18  20:55  Tommy                                       #dickefinger\n",
              "5  18.04.18  20:56  Tommy  Russischer Pop empfohlen weil ich Dr. Dre gehö..."
            ]
          },
          "metadata": {
            "tags": []
          },
          "execution_count": 65
        }
      ]
    },
    {
      "cell_type": "code",
      "metadata": {
        "id": "WSprwh7qmZx-",
        "colab_type": "code",
        "colab": {
          "base_uri": "https://localhost:8080/",
          "height": 206
        },
        "outputId": "e4636612-ca72-446f-846b-3879aa26e1cc"
      },
      "source": [
        "messages_df['Letter_Count'] = messages_df['Message'].apply(lambda s : len(s)) #Letter Count erstellen\n",
        "messages_df['Word_Count'] = messages_df['Message'].apply(lambda s : len(s.split(' '))) #Word Count erstellen\n",
        "messages_df.head()"
      ],
      "execution_count": 69,
      "outputs": [
        {
          "output_type": "execute_result",
          "data": {
            "text/html": [
              "<div>\n",
              "<style scoped>\n",
              "    .dataframe tbody tr th:only-of-type {\n",
              "        vertical-align: middle;\n",
              "    }\n",
              "\n",
              "    .dataframe tbody tr th {\n",
              "        vertical-align: top;\n",
              "    }\n",
              "\n",
              "    .dataframe thead th {\n",
              "        text-align: right;\n",
              "    }\n",
              "</style>\n",
              "<table border=\"1\" class=\"dataframe\">\n",
              "  <thead>\n",
              "    <tr style=\"text-align: right;\">\n",
              "      <th></th>\n",
              "      <th>Date</th>\n",
              "      <th>Time</th>\n",
              "      <th>Author</th>\n",
              "      <th>Message</th>\n",
              "      <th>Letter_Count</th>\n",
              "      <th>Word_Count</th>\n",
              "    </tr>\n",
              "  </thead>\n",
              "  <tbody>\n",
              "    <tr>\n",
              "      <th>0</th>\n",
              "      <td>18.04.18</td>\n",
              "      <td>20:38</td>\n",
              "      <td>Meo</td>\n",
              "      <td>x)</td>\n",
              "      <td>2</td>\n",
              "      <td>1</td>\n",
              "    </tr>\n",
              "    <tr>\n",
              "      <th>1</th>\n",
              "      <td>18.04.18</td>\n",
              "      <td>20:40</td>\n",
              "      <td>Meo</td>\n",
              "      <td>Oder man springt aus 200 Metern ins Wasser.. V...</td>\n",
              "      <td>71</td>\n",
              "      <td>13</td>\n",
              "    </tr>\n",
              "    <tr>\n",
              "      <th>2</th>\n",
              "      <td>18.04.18</td>\n",
              "      <td>20:40</td>\n",
              "      <td>Tommy</td>\n",
              "      <td>Vomg dicke her</td>\n",
              "      <td>14</td>\n",
              "      <td>3</td>\n",
              "    </tr>\n",
              "    <tr>\n",
              "      <th>4</th>\n",
              "      <td>18.04.18</td>\n",
              "      <td>20:55</td>\n",
              "      <td>Tommy</td>\n",
              "      <td>#dickefinger</td>\n",
              "      <td>12</td>\n",
              "      <td>1</td>\n",
              "    </tr>\n",
              "    <tr>\n",
              "      <th>5</th>\n",
              "      <td>18.04.18</td>\n",
              "      <td>20:56</td>\n",
              "      <td>Tommy</td>\n",
              "      <td>Russischer Pop empfohlen weil ich Dr. Dre gehö...</td>\n",
              "      <td>53</td>\n",
              "      <td>9</td>\n",
              "    </tr>\n",
              "  </tbody>\n",
              "</table>\n",
              "</div>"
            ],
            "text/plain": [
              "       Date   Time  ... Letter_Count Word_Count\n",
              "0  18.04.18  20:38  ...            2          1\n",
              "1  18.04.18  20:40  ...           71         13\n",
              "2  18.04.18  20:40  ...           14          3\n",
              "4  18.04.18  20:55  ...           12          1\n",
              "5  18.04.18  20:56  ...           53          9\n",
              "\n",
              "[5 rows x 6 columns]"
            ]
          },
          "metadata": {
            "tags": []
          },
          "execution_count": 69
        }
      ]
    },
    {
      "cell_type": "code",
      "metadata": {
        "id": "tTMmIEk4mkpj",
        "colab_type": "code",
        "colab": {
          "base_uri": "https://localhost:8080/",
          "height": 35
        },
        "outputId": "085f5da9-8b82-4432-d3bc-6530e7eb8793"
      },
      "source": [
        "#Anzahl versendeter Buchstaben und Wörter\n",
        "messages_df['Letter_Count'].sum(), messages_df['Word_Count'].sum()"
      ],
      "execution_count": 86,
      "outputs": [
        {
          "output_type": "execute_result",
          "data": {
            "text/plain": [
              "(1049410, 188064)"
            ]
          },
          "metadata": {
            "tags": []
          },
          "execution_count": 86
        }
      ]
    },
    {
      "cell_type": "code",
      "metadata": {
        "id": "L3MrFPKRpqHJ",
        "colab_type": "code",
        "colab": {
          "base_uri": "https://localhost:8080/",
          "height": 297
        },
        "outputId": "852eb620-3f97-4b39-ad3c-dc1db724199f"
      },
      "source": [
        "#Anzahl versendeter Wörter pro Author\n",
        "total_word_count_grouped_by_author = messages_df[['Author', 'Word_Count']].groupby('Author').sum()\n",
        "sorted_total_word_count_grouped_by_author = total_word_count_grouped_by_author.sort_values('Word_Count', ascending=False)\n",
        "sorted_total_word_count_grouped_by_author.plot.barh()\n",
        "plt.xlabel('Number of Words')\n",
        "plt.ylabel('Authors')"
      ],
      "execution_count": 88,
      "outputs": [
        {
          "output_type": "execute_result",
          "data": {
            "text/plain": [
              "Text(0, 0.5, 'Authors')"
            ]
          },
          "metadata": {
            "tags": []
          },
          "execution_count": 88
        },
        {
          "output_type": "display_data",
          "data": {
            "image/png": "[encoded data removed]",
            "text/plain": [
              "<Figure size 432x288 with 1 Axes>"
            ]
          },
          "metadata": {
            "tags": []
          }
        }
      ]
    },
    {
      "cell_type": "code",
      "metadata": {
        "id": "Tc02hcahqQE7",
        "colab_type": "code",
        "colab": {
          "base_uri": "https://localhost:8080/",
          "height": 354
        },
        "outputId": "73b66e69-a465-40a7-bd28-dbadfb1ccb0a"
      },
      "source": [
        "#Häufigste Anzahl von Wörtern in einer Nachricht\n",
        "plt.figure(figsize=(15, 5)) # To ensure that the bar plot fits in the output cell of a Jupyter notebook\n",
        "word_count_value_counts = messages_df['Word_Count'].value_counts()\n",
        "top_40_word_count_value_counts = word_count_value_counts.head(40)\n",
        "top_40_word_count_value_counts.plot.bar()\n",
        "plt.xlabel('Word Count')\n",
        "plt.ylabel('Frequency')"
      ],
      "execution_count": 92,
      "outputs": [
        {
          "output_type": "execute_result",
          "data": {
            "text/plain": [
              "Text(0, 0.5, 'Frequency')"
            ]
          },
          "metadata": {
            "tags": []
          },
          "execution_count": 92
        },
        {
          "output_type": "display_data",
          "data": {
            "image/png": "[encoded data removed]",
            "text/plain": [
              "<Figure size 1080x360 with 1 Axes>"
            ]
          },
          "metadata": {
            "tags": []
          }
        }
      ]
    },
    {
      "cell_type": "code",
      "metadata": {
        "id": "bZcnkqs3q0a4",
        "colab_type": "code",
        "colab": {
          "base_uri": "https://localhost:8080/",
          "height": 297
        },
        "outputId": "0840c93c-6f07-41c6-e9c9-c72abbe9e17b"
      },
      "source": [
        "#Anzahl aller versendeten Buchstaben pro Author\n",
        "total_letter_count_grouped_by_author = messages_df[['Author', 'Letter_Count']].groupby('Author').sum()\n",
        "sorted_total_letter_count_grouped_by_author = total_letter_count_grouped_by_author.sort_values('Letter_Count', ascending=False)\n",
        "sorted_total_letter_count_grouped_by_author.plot.barh()\n",
        "plt.xlabel('Number of Letters')\n",
        "plt.ylabel('Authors')"
      ],
      "execution_count": 93,
      "outputs": [
        {
          "output_type": "execute_result",
          "data": {
            "text/plain": [
              "Text(0, 0.5, 'Authors')"
            ]
          },
          "metadata": {
            "tags": []
          },
          "execution_count": 93
        },
        {
          "output_type": "display_data",
          "data": {
            "image/png": "[encoded data removed]",
            "text/plain": [
              "<Figure size 432x288 with 1 Axes>"
            ]
          },
          "metadata": {
            "tags": []
          }
        }
      ]
    },
    {
      "cell_type": "code",
      "metadata": {
        "id": "FHliSgMqrRqv",
        "colab_type": "code",
        "colab": {
          "base_uri": "https://localhost:8080/",
          "height": 194
        },
        "outputId": "8ccad4cb-faa9-4c23-df68-42f12fbacb0e"
      },
      "source": [
        "#Häufigste Anzahl von Buchtaben in einer Nachricht\n",
        "plt.figure(figsize=(15, 2))\n",
        "letter_count_value_counts = messages_df['Letter_Count'].value_counts()\n",
        "top_40_letter_count_value_counts = letter_count_value_counts.head(40)\n",
        "top_40_letter_count_value_counts.plot.bar()\n",
        "plt.xlabel('Letter count')\n",
        "plt.ylabel('Frequency')"
      ],
      "execution_count": 94,
      "outputs": [
        {
          "output_type": "execute_result",
          "data": {
            "text/plain": [
              "Text(0, 0.5, 'Frequency')"
            ]
          },
          "metadata": {
            "tags": []
          },
          "execution_count": 94
        },
        {
          "output_type": "display_data",
          "data": {
            "image/png": "[encoded data removed]",
            "text/plain": [
              "<Figure size 1080x144 with 1 Axes>"
            ]
          },
          "metadata": {
            "tags": []
          }
        }
      ]
    },
    {
      "cell_type": "code",
      "metadata": {
        "id": "5is6Eog9rlE4",
        "colab_type": "code",
        "colab": {
          "base_uri": "https://localhost:8080/",
          "height": 297
        },
        "outputId": "78d2f57b-a7bc-4980-87b2-01d09f6e7191"
      },
      "source": [
        "#Top 10 der Tage an denen am meisten Nachrichten versendet wurden\n",
        "messages_df['Date'].value_counts().head(10).plot.barh() # Top 10 Dates on which the most number of messages were sent\n",
        "plt.xlabel('Number of Messages')\n",
        "plt.ylabel('Date')"
      ],
      "execution_count": 95,
      "outputs": [
        {
          "output_type": "execute_result",
          "data": {
            "text/plain": [
              "Text(0, 0.5, 'Date')"
            ]
          },
          "metadata": {
            "tags": []
          },
          "execution_count": 95
        },
        {
          "output_type": "display_data",
          "data": {
            "image/png": "[encoded data removed]",
            "text/plain": [
              "<Figure size 432x288 with 1 Axes>"
            ]
          },
          "metadata": {
            "tags": []
          }
        }
      ]
    },
    {
      "cell_type": "code",
      "metadata": {
        "id": "4AyU4xXfrzgP",
        "colab_type": "code",
        "colab": {
          "base_uri": "https://localhost:8080/",
          "height": 297
        },
        "outputId": "9fdacf59-20b9-4d61-969a-6afa58b97165"
      },
      "source": [
        "#Zeit zu der die meisten Nachrichten versendet werden\n",
        "messages_df['Time'].value_counts().head(10).plot.barh() # Top 10 Times of the day at which the most number of messages were sent\n",
        "plt.xlabel('Number of messages')\n",
        "plt.ylabel('Time')"
      ],
      "execution_count": 96,
      "outputs": [
        {
          "output_type": "execute_result",
          "data": {
            "text/plain": [
              "Text(0, 0.5, 'Time')"
            ]
          },
          "metadata": {
            "tags": []
          },
          "execution_count": 96
        },
        {
          "output_type": "display_data",
          "data": {
            "image/png": "[encoded data removed]",
            "text/plain": [
              "<Figure size 432x288 with 1 Axes>"
            ]
          },
          "metadata": {
            "tags": []
          }
        }
      ]
    },
    {
      "cell_type": "code",
      "metadata": {
        "id": "IF4HV3TSsFEm",
        "colab_type": "code",
        "colab": {
          "base_uri": "https://localhost:8080/",
          "height": 297
        },
        "outputId": "59de8011-d207-4f81-8c46-0b567245b4a3"
      },
      "source": [
        "#Zu welcher Stunde des Tages werden die meisten nachrichten versendet\n",
        "messages_df['Hour'] = messages_df['Time'].apply(lambda x : x.split(':')[0])\n",
        "messages_df['Hour'].value_counts().head(10).sort_index(ascending=False).plot.barh() # Top 10 Hours of the day during which the most number of messages were sent\n",
        "plt.xlabel('Number of messages')\n",
        "plt.ylabel('Hour of Day')"
      ],
      "execution_count": 98,
      "outputs": [
        {
          "output_type": "execute_result",
          "data": {
            "text/plain": [
              "Text(0, 0.5, 'Hour of Day')"
            ]
          },
          "metadata": {
            "tags": []
          },
          "execution_count": 98
        },
        {
          "output_type": "display_data",
          "data": {
            "image/png": "[encoded data removed]",
            "text/plain": [
              "<Figure size 432x288 with 1 Axes>"
            ]
          },
          "metadata": {
            "tags": []
          }
        }
      ]
    }
  ]
}